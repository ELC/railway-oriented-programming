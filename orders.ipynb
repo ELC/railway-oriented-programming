{
 "cells": [
  {
   "cell_type": "code",
   "execution_count": 1,
   "metadata": {},
   "outputs": [],
   "source": [
    "import random\n",
    "from collections import Counter"
   ]
  },
  {
   "cell_type": "code",
   "execution_count": 2,
   "metadata": {},
   "outputs": [],
   "source": [
    "PROBABILITY_OF_HAVING_STOCK = 0.8\n",
    "PROBABILITY_OF_USER_WAITING = 0.4"
   ]
  },
  {
   "cell_type": "code",
   "execution_count": 3,
   "metadata": {},
   "outputs": [],
   "source": [
    "def has_stock() -> int:\n",
    "    return random.random() < PROBABILITY_OF_HAVING_STOCK\n",
    "\n",
    "def user_wants_to_wait() -> bool:\n",
    "    return random.random() < PROBABILITY_OF_USER_WAITING"
   ]
  },
  {
   "cell_type": "code",
   "execution_count": 4,
   "metadata": {},
   "outputs": [],
   "source": [
    "from enum import Enum, auto\n",
    "\n",
    "class State(Enum):\n",
    "    WAITING = auto()\n",
    "    PENDING = auto()\n",
    "    SUSPENDED = auto()\n",
    "    CANCELLED = auto()\n",
    "    ARCHIVED = auto()\n",
    "    DELIVERED = auto()"
   ]
  },
  {
   "cell_type": "markdown",
   "metadata": {},
   "source": [
    "### Naive, Imperative Implementation"
   ]
  },
  {
   "cell_type": "code",
   "execution_count": 5,
   "metadata": {},
   "outputs": [],
   "source": [
    "def game() -> State:\n",
    "    state = State.WAITING\n",
    "    \n",
    "    if has_stock():\n",
    "        state = State.PENDING\n",
    "        state = State.DELIVERED\n",
    "        return state\n",
    "    \n",
    "    state = State.SUSPENDED\n",
    "\n",
    "    if user_wants_to_wait():\n",
    "        state = State.PENDING\n",
    "        state = State.DELIVERED\n",
    "        return state\n",
    "    \n",
    "    state = State.CANCELLED    \n",
    "    state = State.ARCHIVED\n",
    "    return state"
   ]
  },
  {
   "cell_type": "code",
   "execution_count": 6,
   "metadata": {},
   "outputs": [
    {
     "data": {
      "text/plain": [
       "Counter({<State.DELIVERED: 6>: 87957, <State.ARCHIVED: 5>: 12043})"
      ]
     },
     "execution_count": 6,
     "metadata": {},
     "output_type": "execute_result"
    }
   ],
   "source": [
    "results = [game() for _ in range(100_000)]\n",
    "Counter(results)"
   ]
  },
  {
   "cell_type": "code",
   "execution_count": 7,
   "metadata": {},
   "outputs": [],
   "source": [
    "random.seed(9)\n",
    "value = game()"
   ]
  },
  {
   "cell_type": "markdown",
   "metadata": {},
   "source": [
    "### Naive, Functional Implementation"
   ]
  },
  {
   "cell_type": "code",
   "execution_count": 8,
   "metadata": {},
   "outputs": [],
   "source": [
    "def create_order() -> State:\n",
    "    return State.WAITING\n",
    "\n",
    "def check_stock() -> State:\n",
    "    return State.PENDING if has_stock() else State.SUSPENDED\n",
    "\n",
    "def wait_for_confirmation() -> State:\n",
    "    return State.PENDING if user_wants_to_wait() else State.CANCELLED\n",
    "\n",
    "def deliver() -> State:\n",
    "    return State.DELIVERED\n",
    "\n",
    "def archive() -> State:\n",
    "    return State.ARCHIVED\n",
    "\n",
    "def game_() -> State:\n",
    "    order = create_order()\n",
    "\n",
    "    order = check_stock()\n",
    "\n",
    "    if order is State.SUSPENDED:\n",
    "        order = wait_for_confirmation()\n",
    "    \n",
    "    if order is State.PENDING:\n",
    "        order = deliver()\n",
    "\n",
    "    if order is State.CANCELLED:\n",
    "        order = archive()\n",
    "\n",
    "    return order"
   ]
  },
  {
   "cell_type": "code",
   "execution_count": 9,
   "metadata": {},
   "outputs": [],
   "source": [
    "for i in range(1_000):\n",
    "    random.seed(i)\n",
    "    value = game()\n",
    "    \n",
    "    random.seed(i)\n",
    "    value_ = game_()\n",
    "    assert value is value_, i"
   ]
  },
  {
   "cell_type": "markdown",
   "metadata": {},
   "source": [
    "### Pure Python Implementation"
   ]
  },
  {
   "cell_type": "code",
   "execution_count": 10,
   "metadata": {},
   "outputs": [],
   "source": [
    "from __future__ import annotations\n",
    "from dataclasses import dataclass\n",
    "from typing import Callable, ParamSpec, Union, TypeVar, Generic\n",
    "\n",
    "T = TypeVar(\"T\", covariant=True)\n",
    "\n",
    "@dataclass\n",
    "class Success(Generic[T]):\n",
    "    value: T\n",
    "\n",
    "@dataclass\n",
    "class Failure(Generic[T]):\n",
    "    value: T\n",
    "\n",
    "\n",
    "T1 = TypeVar(\"T1\")\n",
    "T2 = TypeVar(\"T2\")\n",
    "T3 = TypeVar(\"T3\")\n",
    "\n",
    "\n",
    "Result = Union[Success[T1], Failure[T2]]\n",
    "\n",
    "\n",
    "U = TypeVar(\"U\")\n",
    "W = TypeVar(\"W\")\n",
    "P = ParamSpec(\"P\")\n",
    "\n",
    "def compose(f: Callable[P, U], g: Callable[[U], W]) -> Callable[P, W]:\n",
    "    def inner(*args: P.args, **kwargs: P.kwargs) -> W:\n",
    "        return g(f(*args, **kwargs))\n",
    "    return inner\n",
    "\n",
    "def invert(value: Result[T1, T2]) -> Result[T2, T1]:\n",
    "    return Failure(value.value) if isinstance(value, Success) else Success(value.value)\n",
    "\n",
    "def identity(x: T) -> T:\n",
    "    return x\n",
    "\n",
    "\n",
    "def bind(f: Callable[[T1], Result[T3, T2]]) -> Callable[[Result[T1, T2]], Result[Union[T1, T3], T2]]:\n",
    "    def adapt(double_track: Result[T1, T2]) -> Result[Union[T1, T3], T2]:\n",
    "        return f(double_track.value) if isinstance(double_track, Success) else  double_track\n",
    "    return adapt\n",
    "\n",
    "def map_(f: Callable[[T1], Success[T3]]) -> Callable[[Result[T1, T2]], Result[T3, T2]]:\n",
    "    def adapt(double_track: Result[T1, T2]) -> Result[T3, T2]:\n",
    "        return f(double_track.value) if isinstance(double_track, Success) else  double_track\n",
    "    return adapt\n",
    "\n",
    "\n",
    "# def lash(f: Callable[..., Result[T1, T3]]) -> Callable[[Result[T1, T2]], Result[T1, Union[T2, T3]]]:\n",
    "#     def adapt(double_track: Result[T1, T2]) -> Result[T1, Union[T2, T3]]:\n",
    "#         return f(double_track.value) if isinstance(double_track, Failure) else  double_track\n",
    "#     return adapt\n",
    "\n",
    "def lash(f: Callable[[T1], Result[T1, T3]]) -> Callable[[Result[T1, T2]], Result[T1, Union[T2, T3]]]:\n",
    "    return compose(compose(invert, bind(compose(f, invert))), invert)\n",
    "\n",
    "# def alt(f: Callable[..., Failure[T3]]) -> Callable[[Result[T1, T2]], Result[T1, T3]]:\n",
    "#     def adapt(double_track: Result[T1, T2]) -> Result[T1, T3]:\n",
    "#         return f(double_track.value) if isinstance(double_track, Failure) else  double_track\n",
    "#     return adapt\n",
    "\n",
    "def alt(f: Callable[[T1], Failure[T3]]) -> Callable[[Result[T1, T2]], Result[T1, T3]]:\n",
    "    return compose(compose(invert, map_(compose(f, invert))), invert)\n",
    "\n",
    "\n",
    "@dataclass\n",
    "class PipeLazyWithStart(Generic[P, W]):\n",
    "    f: Callable[P, W]\n",
    "\n",
    "    def then(self, g: Callable[[W], U]) -> PipeLazyWithStart[P, U]:\n",
    "        return PipeLazyWithStart(compose(self.f, g))\n",
    "\n",
    "    def __call__(self, *args: P.args, **kwargs: P.kwargs) -> W:\n",
    "        return self.f(*args, **kwargs)\n"
   ]
  },
  {
   "cell_type": "code",
   "execution_count": 11,
   "metadata": {},
   "outputs": [
    {
     "data": {
      "text/plain": [
       "<State.DELIVERED: 6>"
      ]
     },
     "execution_count": 11,
     "metadata": {},
     "output_type": "execute_result"
    }
   ],
   "source": [
    "def create_order(*_) -> Success[State]:\n",
    "    return Success(State.WAITING)\n",
    "\n",
    "def check_stock(*_) -> Result[State, State]:\n",
    "    return Success(State.PENDING) if has_stock() else Failure(State.SUSPENDED)\n",
    "\n",
    "def wait_for_confirmation(*_) -> Result[State, State]:\n",
    "    return Success(State.PENDING) if user_wants_to_wait() else Failure(State.CANCELLED)\n",
    "\n",
    "def deliver(*_) -> Success[State]:\n",
    "    return Success(State.DELIVERED)\n",
    "\n",
    "def archive(*_) -> Failure[State]:\n",
    "    return Failure(State.ARCHIVED)\n",
    "\n",
    "def extract_value(order: Result[State, State]) -> State:\n",
    "    return order.value\n",
    "\n",
    "random.seed(9)\n",
    "game_2 = (\n",
    "    PipeLazyWithStart(create_order)\n",
    "    .then(bind(check_stock))\n",
    "    .then(lash(wait_for_confirmation))\n",
    "    .then(map_(deliver))\n",
    "    .then(alt(archive))\n",
    "    .then(extract_value)\n",
    ")\n",
    "game_2()"
   ]
  },
  {
   "cell_type": "code",
   "execution_count": 12,
   "metadata": {},
   "outputs": [],
   "source": [
    "for i in range(1_000):\n",
    "    random.seed(i)\n",
    "    value = game()\n",
    "    \n",
    "    random.seed(i)\n",
    "    value_ = game_2()\n",
    "    # print(value, value_)\n",
    "    assert value is value_, i"
   ]
  },
  {
   "cell_type": "markdown",
   "metadata": {},
   "source": [
    "### Implementing using Returns"
   ]
  },
  {
   "cell_type": "code",
   "execution_count": 13,
   "metadata": {},
   "outputs": [
    {
     "name": "stdout",
     "output_type": "stream",
     "text": [
      "Requirement already satisfied: returns in c:\\users\\elcg\\.pyenv\\pyenv-win\\versions\\3.11.0a7\\lib\\site-packages (0.22.0)\n",
      "Requirement already satisfied: mypy in c:\\users\\elcg\\.pyenv\\pyenv-win\\versions\\3.11.0a7\\lib\\site-packages (1.5.1)\n",
      "Requirement already satisfied: typing-extensions<5.0,>=4.0 in c:\\users\\elcg\\.pyenv\\pyenv-win\\versions\\3.11.0a7\\lib\\site-packages (from returns) (4.4.0)\n",
      "Requirement already satisfied: mypy-extensions>=1.0.0 in c:\\users\\elcg\\.pyenv\\pyenv-win\\versions\\3.11.0a7\\lib\\site-packages (from mypy) (1.0.0)\n",
      "Note: you may need to restart the kernel to use updated packages.\n"
     ]
    },
    {
     "name": "stderr",
     "output_type": "stream",
     "text": [
      "WARNING: You are using pip version 22.0.4; however, version 24.0 is available.\n",
      "You should consider upgrading via the 'c:\\Users\\elcg\\.pyenv\\pyenv-win\\versions\\3.11.0a7\\python.exe -m pip install --upgrade pip' command.\n"
     ]
    }
   ],
   "source": [
    "%pip install returns mypy"
   ]
  },
  {
   "cell_type": "code",
   "execution_count": 14,
   "metadata": {},
   "outputs": [],
   "source": [
    "from returns.result import Result, Success, Failure"
   ]
  },
  {
   "cell_type": "code",
   "execution_count": 15,
   "metadata": {},
   "outputs": [],
   "source": [
    "def create_order(*_) -> Success[State]:\n",
    "    return Success(State.WAITING)\n",
    "\n",
    "def check_stock(*_) -> Result[State, State]:\n",
    "    return Success(State.PENDING) if has_stock() else Failure(State.SUSPENDED)\n",
    "\n",
    "def wait_for_confirmation(*_) -> Result[State, State]:\n",
    "    return Success(State.PENDING) if user_wants_to_wait() else Failure(State.CANCELLED)\n",
    "\n",
    "def deliver(*_) -> State:\n",
    "    return State.DELIVERED\n",
    "\n",
    "def archive(*_) -> State:\n",
    "    return State.ARCHIVED\n",
    "\n",
    "def extract_value(order: Result[State, State]) -> State:\n",
    "    return order._inner_value\n"
   ]
  },
  {
   "cell_type": "code",
   "execution_count": 16,
   "metadata": {},
   "outputs": [
    {
     "data": {
      "text/plain": [
       "<State.DELIVERED: 6>"
      ]
     },
     "execution_count": 16,
     "metadata": {},
     "output_type": "execute_result"
    }
   ],
   "source": [
    "from returns.pipeline import pipe\n",
    "from returns.pointfree import bind, lash, map_, alt\n",
    "\n",
    "game_3 = pipe(\n",
    "    bind(check_stock),\n",
    "    lash(wait_for_confirmation),\n",
    "    map_(deliver),\n",
    "    alt(archive),\n",
    "    extract_value\n",
    ")\n",
    "game_3(create_order())"
   ]
  },
  {
   "cell_type": "code",
   "execution_count": 17,
   "metadata": {},
   "outputs": [],
   "source": [
    "for i in range(1_000):\n",
    "    random.seed(i)\n",
    "    value = game()\n",
    "    \n",
    "    random.seed(i)\n",
    "    value_ = game_3(create_order())\n",
    "\n",
    "    assert value is value_, i"
   ]
  },
  {
   "cell_type": "markdown",
   "metadata": {},
   "source": [
    "### Implementing using Result"
   ]
  },
  {
   "cell_type": "code",
   "execution_count": 18,
   "metadata": {},
   "outputs": [
    {
     "name": "stdout",
     "output_type": "stream",
     "text": [
      "Requirement already satisfied: result in c:\\users\\elcg\\.pyenv\\pyenv-win\\versions\\3.11.0a7\\lib\\site-packages (0.13.1)\n",
      "Note: you may need to restart the kernel to use updated packages.\n"
     ]
    },
    {
     "name": "stderr",
     "output_type": "stream",
     "text": [
      "WARNING: You are using pip version 22.0.4; however, version 24.0 is available.\n",
      "You should consider upgrading via the 'c:\\Users\\elcg\\.pyenv\\pyenv-win\\versions\\3.11.0a7\\python.exe -m pip install --upgrade pip' command.\n"
     ]
    }
   ],
   "source": [
    "%pip install result"
   ]
  },
  {
   "cell_type": "code",
   "execution_count": 19,
   "metadata": {},
   "outputs": [],
   "source": [
    "from result import Ok, Err, Result"
   ]
  },
  {
   "cell_type": "code",
   "execution_count": 20,
   "metadata": {},
   "outputs": [],
   "source": [
    "T1 = TypeVar(\"T1\")\n",
    "T2 = TypeVar(\"T2\")\n",
    "T3 = TypeVar(\"T3\")\n",
    "\n",
    "def invert(value: Result[T1, T2]) -> Result[T2, T1]:\n",
    "    return Err(value.unwrap()) if isinstance(value, Ok) else Ok(value.unwrap_err())\n",
    "\n",
    "def bind(f: Callable[..., Result[T3, T2]]) -> Callable[[Result[T1, T2]], Result[Union[T1, T3], T2]]:\n",
    "    def adapt(double_track: Result[T1, T2]) -> Result[Union[T1, T3], T2]:\n",
    "        return f(double_track.unwrap()) if double_track.is_ok() else  double_track\n",
    "    return adapt\n",
    "\n",
    "def map_(f: Callable[..., Ok[T3]]) -> Callable[[Result[T1, T2]], Result[T3, T2]]:\n",
    "    def adapt(double_track: Result[T1, T2]) -> Result[T3, T2]:\n",
    "        return f(double_track.unwrap()) if isinstance(double_track, Ok) else  double_track\n",
    "    return adapt\n",
    "\n",
    "def lash(f: Callable[..., Result[T1, T3]]) -> Callable[[Result[T1, T2]], Result[T1, Union[T2, T3]]]:\n",
    "    return compose(compose(invert, bind(compose(f, invert))), invert)\n",
    "\n",
    "\n",
    "def alt(f: Callable[..., Err[T3]]) -> Callable[[Result[T1, T2]], Result[T1, T3]]:\n",
    "    return compose(compose(invert, map_(compose(f, invert))), invert)"
   ]
  },
  {
   "cell_type": "code",
   "execution_count": 21,
   "metadata": {},
   "outputs": [],
   "source": [
    "def create_order(*_) -> Ok[State]:\n",
    "    return Ok(State.WAITING)\n",
    "\n",
    "def check_stock(*_) -> Result[State, State]:\n",
    "    return Ok(State.PENDING) if has_stock() else Err(State.SUSPENDED)\n",
    "\n",
    "def wait_for_confirmation(*_) -> Result[State, State]:\n",
    "    return Ok(State.PENDING) if user_wants_to_wait() else Err(State.CANCELLED)\n",
    "\n",
    "def deliver(*_) -> Ok[State]:\n",
    "    return Ok(State.DELIVERED)\n",
    "\n",
    "def archive(*_) -> Err[State]:\n",
    "    return Err(State.ARCHIVED)\n",
    "\n",
    "def extract_value(order: Result[State, State]) -> State:\n",
    "    return order._value\n"
   ]
  },
  {
   "cell_type": "code",
   "execution_count": 22,
   "metadata": {},
   "outputs": [
    {
     "data": {
      "text/plain": [
       "<State.DELIVERED: 6>"
      ]
     },
     "execution_count": 22,
     "metadata": {},
     "output_type": "execute_result"
    }
   ],
   "source": [
    "game_4 = (\n",
    "    PipeLazyWithStart(create_order)\n",
    "    .then(bind(check_stock))\n",
    "    .then(lash(wait_for_confirmation))\n",
    "    .then(map_(deliver))\n",
    "    .then(alt(archive))\n",
    "    .then(extract_value)\n",
    ")\n",
    "\n",
    "game_4()"
   ]
  },
  {
   "cell_type": "code",
   "execution_count": 23,
   "metadata": {},
   "outputs": [],
   "source": [
    "for i in range(1_000):\n",
    "    random.seed(i)\n",
    "    value = game()\n",
    "    \n",
    "    random.seed(i)\n",
    "    value_ = game_4()\n",
    "    # print(value, value_)\n",
    "    assert value is value_, i"
   ]
  },
  {
   "cell_type": "markdown",
   "metadata": {},
   "source": [
    "### Probability of Delivery"
   ]
  },
  {
   "cell_type": "code",
   "execution_count": 24,
   "metadata": {},
   "outputs": [
    {
     "name": "stdout",
     "output_type": "stream",
     "text": [
      "Requirement already satisfied: sympy in c:\\users\\elcg\\.pyenv\\pyenv-win\\versions\\3.11.0a7\\lib\\site-packages (1.12)\n",
      "Requirement already satisfied: mpmath>=0.19 in c:\\users\\elcg\\.pyenv\\pyenv-win\\versions\\3.11.0a7\\lib\\site-packages (from sympy) (1.3.0)\n",
      "Note: you may need to restart the kernel to use updated packages.\n"
     ]
    },
    {
     "name": "stderr",
     "output_type": "stream",
     "text": [
      "WARNING: You are using pip version 22.0.4; however, version 24.0 is available.\n",
      "You should consider upgrading via the 'c:\\Users\\elcg\\.pyenv\\pyenv-win\\versions\\3.11.0a7\\python.exe -m pip install --upgrade pip' command.\n"
     ]
    }
   ],
   "source": [
    "%pip install sympy"
   ]
  },
  {
   "cell_type": "code",
   "execution_count": 25,
   "metadata": {},
   "outputs": [],
   "source": [
    "from sympy.stats import P, E, variance, Uniform, Normal"
   ]
  },
  {
   "cell_type": "code",
   "execution_count": 26,
   "metadata": {},
   "outputs": [],
   "source": [
    "from sympy import simplify"
   ]
  },
  {
   "cell_type": "code",
   "execution_count": 27,
   "metadata": {},
   "outputs": [],
   "source": [
    "X1 = Uniform(\"X1\", 0, 1)\n",
    "X2 = Uniform(\"X2\", 0, 1)\n",
    "\n",
    "probability_of_having_stock = P(X1 < PROBABILITY_OF_HAVING_STOCK)\n",
    "probability_of_user_waiting = P(X2 < PROBABILITY_OF_USER_WAITING)\n"
   ]
  },
  {
   "cell_type": "code",
   "execution_count": 28,
   "metadata": {},
   "outputs": [
    {
     "data": {
      "text/latex": [
       "$\\displaystyle 0.88$"
      ],
      "text/plain": [
       "0.880000000000000"
      ]
     },
     "execution_count": 28,
     "metadata": {},
     "output_type": "execute_result"
    }
   ],
   "source": [
    "delivered_probability = (\n",
    "    probability_of_having_stock\n",
    "    + (1 - probability_of_having_stock) * probability_of_user_waiting\n",
    ")\n",
    "delivered_probability"
   ]
  }
 ],
 "metadata": {
  "kernelspec": {
   "display_name": "Image-Recognition-App-Fastapi-L9EajCDy",
   "language": "python",
   "name": "python3"
  },
  "language_info": {
   "codemirror_mode": {
    "name": "ipython",
    "version": 3
   },
   "file_extension": ".py",
   "mimetype": "text/x-python",
   "name": "python",
   "nbconvert_exporter": "python",
   "pygments_lexer": "ipython3",
   "version": "3.11.0a7"
  },
  "orig_nbformat": 4
 },
 "nbformat": 4,
 "nbformat_minor": 2
}
