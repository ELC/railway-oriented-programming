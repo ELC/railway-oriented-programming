{
 "cells": [
  {
   "cell_type": "code",
   "execution_count": 42,
   "metadata": {},
   "outputs": [],
   "source": [
    "import random\n",
    "from collections import Counter"
   ]
  },
  {
   "cell_type": "code",
   "execution_count": 43,
   "metadata": {},
   "outputs": [],
   "source": [
    "def roll_die() -> int:\n",
    "    return random.randint(1, 6)\n",
    "\n",
    "def is_even(n: int) -> bool:\n",
    "    return n % 2 == 0\n",
    "\n",
    "def is_divisible_by_three(n: int) -> bool:\n",
    "    return n % 3 == 0\n",
    "\n",
    "def greater_than_eight(n: int) -> bool:\n",
    "    return n > 8\n",
    "\n",
    "def less_than_eight(n: int) -> bool:\n",
    "    return n < 8\n",
    "\n",
    "def sum_values(*n: int) -> int:\n",
    "    return sum(n)"
   ]
  },
  {
   "cell_type": "code",
   "execution_count": 44,
   "metadata": {},
   "outputs": [],
   "source": [
    "from enum import Enum, auto\n",
    "\n",
    "class State(Enum):\n",
    "    RED = auto()\n",
    "    GREEN = auto()"
   ]
  },
  {
   "cell_type": "markdown",
   "metadata": {},
   "source": [
    "### Naive, Imperative Implementation"
   ]
  },
  {
   "cell_type": "code",
   "execution_count": 45,
   "metadata": {},
   "outputs": [],
   "source": [
    "def game() -> State:\n",
    "    value = roll_die()\n",
    "\n",
    "    state = State.GREEN if is_even(value) else State.RED\n",
    "\n",
    "    if state is State.GREEN:\n",
    "        value = sum_values(roll_die(), roll_die())\n",
    "    else:\n",
    "        value = roll_die()\n",
    "        value *= 2\n",
    "        if greater_than_eight(value):\n",
    "            state = State.GREEN\n",
    "    \n",
    "    if state is State.GREEN and less_than_eight(value):\n",
    "        state = State.RED\n",
    "\n",
    "    \n",
    "    return state"
   ]
  },
  {
   "cell_type": "code",
   "execution_count": 46,
   "metadata": {},
   "outputs": [
    {
     "data": {
      "text/plain": [
       "Counter({<State.GREEN: 2>: 37444, <State.RED: 1>: 62556})"
      ]
     },
     "execution_count": 46,
     "metadata": {},
     "output_type": "execute_result"
    }
   ],
   "source": [
    "results = [game() for _ in range(100_000)]\n",
    "Counter(results)"
   ]
  },
  {
   "cell_type": "code",
   "execution_count": 47,
   "metadata": {},
   "outputs": [],
   "source": [
    "random.seed(9)\n",
    "value = game()"
   ]
  },
  {
   "cell_type": "markdown",
   "metadata": {},
   "source": [
    "### Naive, Functional Implementation"
   ]
  },
  {
   "cell_type": "code",
   "execution_count": 48,
   "metadata": {},
   "outputs": [],
   "source": [
    "def step_1(value: int) -> State:\n",
    "    return State.GREEN if is_even(value) else State.RED\n",
    "\n",
    "def step_2(_: int) -> int:\n",
    "    return sum_values(roll_die(), roll_die())\n",
    "\n",
    "def step_3(_: int) -> int:\n",
    "    return roll_die() * 2\n",
    "\n",
    "def step_4(value: int) -> State:\n",
    "    return State.GREEN if greater_than_eight(value) else State.RED\n",
    "\n",
    "def step_5(value: int) -> State:\n",
    "    return State.RED if less_than_eight(value) else State.GREEN\n",
    "\n",
    "def game_() -> State:\n",
    "    value = roll_die()\n",
    "\n",
    "    state = step_1(value)\n",
    "\n",
    "    if state is State.GREEN:\n",
    "        value = step_2(value)\n",
    "    else:\n",
    "        value = step_3(value)\n",
    "        state = step_4(value)\n",
    "    \n",
    "    if state is State.GREEN:\n",
    "        state = step_5(value)\n",
    "    \n",
    "    return state"
   ]
  },
  {
   "cell_type": "code",
   "execution_count": 49,
   "metadata": {},
   "outputs": [],
   "source": [
    "for i in range(1_000):\n",
    "    random.seed(i)\n",
    "    value = game()\n",
    "    \n",
    "    random.seed(i)\n",
    "    value_ = game_()\n",
    "    assert value is value_, i"
   ]
  },
  {
   "cell_type": "markdown",
   "metadata": {},
   "source": [
    "### Pure Python Implementation"
   ]
  },
  {
   "cell_type": "code",
   "execution_count": 50,
   "metadata": {},
   "outputs": [],
   "source": [
    "from __future__ import annotations\n",
    "from dataclasses import dataclass\n",
    "from typing import Callable, ParamSpec, Union, TypeVar, Generic\n",
    "\n",
    "T = TypeVar(\"T\", covariant=True)\n",
    "\n",
    "@dataclass\n",
    "class Success(Generic[T]):\n",
    "    value: T\n",
    "\n",
    "@dataclass\n",
    "class Failure(Generic[T]):\n",
    "    value: T\n",
    "\n",
    "\n",
    "T1 = TypeVar(\"T1\")\n",
    "T2 = TypeVar(\"T2\")\n",
    "T3 = TypeVar(\"T3\")\n",
    "\n",
    "\n",
    "Result = Union[Success[T1], Failure[T2]]\n",
    "\n",
    "\n",
    "U = TypeVar(\"U\")\n",
    "W = TypeVar(\"W\")\n",
    "P = ParamSpec(\"P\")\n",
    "\n",
    "def compose(f: Callable[P, U], g: Callable[[U], W]) -> Callable[P, W]:\n",
    "    def inner(*args: P.args, **kwargs: P.kwargs) -> W:\n",
    "        return g(f(*args, **kwargs))\n",
    "    return inner\n",
    "\n",
    "def invert(value: Result[T1, T2]) -> Result[T2, T1]:\n",
    "    return Failure(value.value) if isinstance(value, Success) else Success(value.value)\n",
    "\n",
    "def identity(x: T) -> T:\n",
    "    return x\n",
    "\n",
    "\n",
    "def bind(f: Callable[[T1], Result[T3, T2]]) -> Callable[[Result[T1, T2]], Result[Union[T1, T3], T2]]:\n",
    "    def adapt(double_track: Result[T1, T2]) -> Result[Union[T1, T3], T2]:\n",
    "        return f(double_track.value) if isinstance(double_track, Success) else  double_track\n",
    "    return adapt\n",
    "\n",
    "def map_(f: Callable[[T1], Success[T3]]) -> Callable[[Result[T1, T2]], Result[T3, T2]]:\n",
    "    def adapt(double_track: Result[T1, T2]) -> Result[T3, T2]:\n",
    "        return f(double_track.value) if isinstance(double_track, Success) else  double_track\n",
    "    return adapt\n",
    "\n",
    "\n",
    "# def lash(f: Callable[..., Result[T1, T3]]) -> Callable[[Result[T1, T2]], Result[T1, Union[T2, T3]]]:\n",
    "#     def adapt(double_track: Result[T1, T2]) -> Result[T1, Union[T2, T3]]:\n",
    "#         return f(double_track.value) if isinstance(double_track, Failure) else  double_track\n",
    "#     return adapt\n",
    "\n",
    "def lash(f: Callable[[T1], Result[T1, T3]]) -> Callable[[Result[T1, T2]], Result[T1, Union[T2, T3]]]:\n",
    "    return compose(compose(invert, bind(compose(f, invert))), invert)\n",
    "\n",
    "# def alt(f: Callable[..., Failure[T3]]) -> Callable[[Result[T1, T2]], Result[T1, T3]]:\n",
    "#     def adapt(double_track: Result[T1, T2]) -> Result[T1, T3]:\n",
    "#         return f(double_track.value) if isinstance(double_track, Failure) else  double_track\n",
    "#     return adapt\n",
    "\n",
    "def alt(f: Callable[[T1], Failure[T3]]) -> Callable[[Result[T1, T2]], Result[T1, T3]]:\n",
    "    return compose(compose(invert, map_(compose(f, invert))), invert)\n",
    "\n",
    "\n",
    "@dataclass\n",
    "class PipeLazyWithStart(Generic[P, W]):\n",
    "    f: Callable[P, W]\n",
    "\n",
    "    def then(self, g: Callable[[W], U]) -> PipeLazyWithStart[P, U]:\n",
    "        return PipeLazyWithStart(compose(self.f, g))\n",
    "\n",
    "    def __call__(self, *args: P.args, **kwargs: P.kwargs) -> W:\n",
    "        return self.f(*args, **kwargs)\n"
   ]
  },
  {
   "cell_type": "code",
   "execution_count": 51,
   "metadata": {},
   "outputs": [
    {
     "data": {
      "text/plain": [
       "<State.GREEN: 2>"
      ]
     },
     "execution_count": 51,
     "metadata": {},
     "output_type": "execute_result"
    }
   ],
   "source": [
    "def step_1(value: int) -> Result[int, int]:\n",
    "    return Success(value) if is_even(value) else Failure(value)\n",
    "\n",
    "def step_2(_: int) -> Success[int]:\n",
    "    value = sum_values(roll_die(), roll_die())\n",
    "    return Success(value)\n",
    "\n",
    "def step_3(_: int) -> Failure[int]:\n",
    "    value = roll_die()\n",
    "    return Failure(value * 2)\n",
    "\n",
    "def step_4(value: int) -> Result[int, int]:\n",
    "    return Success(value) if greater_than_eight(value) else Failure(value)\n",
    "\n",
    "def step_5(value: int) -> Result[int, int]:\n",
    "    return Failure(value) if less_than_eight(value) else Success(value)\n",
    "\n",
    "def map_result_to_state(value: Result[int, int]) -> State:\n",
    "    return State.GREEN if isinstance(value, Success) else State.RED\n",
    "\n",
    "random.seed(9)\n",
    "game_2 = (\n",
    "    PipeLazyWithStart(step_1)\n",
    "    .then(map_(step_2))\n",
    "    .then(alt(step_3))\n",
    "    .then(lash(step_4))\n",
    "    .then(bind(step_5))\n",
    "    .then(map_result_to_state)\n",
    ")\n",
    "game_2(roll_die())"
   ]
  },
  {
   "cell_type": "code",
   "execution_count": 52,
   "metadata": {},
   "outputs": [],
   "source": [
    "for i in range(1_000):\n",
    "    random.seed(i)\n",
    "    value = game()\n",
    "    \n",
    "    random.seed(i)\n",
    "    value_ = game_2(roll_die())\n",
    "    # print(value, value_)\n",
    "    assert value is value_, (value, value_, i)"
   ]
  },
  {
   "cell_type": "markdown",
   "metadata": {},
   "source": [
    "### Implementing using Returns"
   ]
  },
  {
   "cell_type": "code",
   "execution_count": 53,
   "metadata": {},
   "outputs": [
    {
     "name": "stdout",
     "output_type": "stream",
     "text": [
      "Requirement already satisfied: returns in c:\\users\\elcg\\.pyenv\\pyenv-win\\versions\\3.11.0a7\\lib\\site-packages (0.22.0)\n",
      "Requirement already satisfied: mypy in c:\\users\\elcg\\.pyenv\\pyenv-win\\versions\\3.11.0a7\\lib\\site-packages (1.5.1)\n",
      "Requirement already satisfied: typing-extensions<5.0,>=4.0 in c:\\users\\elcg\\.pyenv\\pyenv-win\\versions\\3.11.0a7\\lib\\site-packages (from returns) (4.4.0)\n",
      "Requirement already satisfied: mypy-extensions>=1.0.0 in c:\\users\\elcg\\.pyenv\\pyenv-win\\versions\\3.11.0a7\\lib\\site-packages (from mypy) (1.0.0)\n",
      "Note: you may need to restart the kernel to use updated packages.\n"
     ]
    },
    {
     "name": "stderr",
     "output_type": "stream",
     "text": [
      "WARNING: You are using pip version 22.0.4; however, version 24.0 is available.\n",
      "You should consider upgrading via the 'c:\\Users\\elcg\\.pyenv\\pyenv-win\\versions\\3.11.0a7\\python.exe -m pip install --upgrade pip' command.\n"
     ]
    }
   ],
   "source": [
    "%pip install returns mypy"
   ]
  },
  {
   "cell_type": "code",
   "execution_count": 54,
   "metadata": {},
   "outputs": [],
   "source": [
    "from returns.result import Result, Success, Failure"
   ]
  },
  {
   "cell_type": "code",
   "execution_count": 55,
   "metadata": {},
   "outputs": [],
   "source": [
    "def step_1(value: int) -> Result[int, int]:\n",
    "    return Success(value) if is_even(value) else Failure(value)\n",
    "\n",
    "def step_2(_: int) -> int:\n",
    "    value = sum_values(roll_die(), roll_die())\n",
    "    return value\n",
    "\n",
    "def step_3(_: int) -> int:\n",
    "    value = roll_die()\n",
    "    return value * 2\n",
    "\n",
    "def step_4(value: int) -> Result[int, int]:\n",
    "    return Success(value) if greater_than_eight(value) else Failure(value)\n",
    "\n",
    "def step_5(value: int) -> Result[int, int]:\n",
    "    return Failure(value) if less_than_eight(value) else Success(value)\n",
    "\n",
    "def map_result_to_state(value: Result[int, int]) -> State:\n",
    "    return State.GREEN if isinstance(value, Success) else State.RED"
   ]
  },
  {
   "cell_type": "code",
   "execution_count": 56,
   "metadata": {},
   "outputs": [
    {
     "data": {
      "text/plain": [
       "<State.GREEN: 2>"
      ]
     },
     "execution_count": 56,
     "metadata": {},
     "output_type": "execute_result"
    }
   ],
   "source": [
    "from returns.pipeline import pipe\n",
    "from returns.pointfree import bind, lash, map_, alt\n",
    "\n",
    "game_3 = pipe(\n",
    "    step_1,\n",
    "    map_(step_2),\n",
    "    alt(step_3),\n",
    "    lash(step_4),\n",
    "    bind(step_5),\n",
    "    map_result_to_state\n",
    ")\n",
    "game_3(roll_die())"
   ]
  },
  {
   "cell_type": "code",
   "execution_count": 57,
   "metadata": {},
   "outputs": [],
   "source": [
    "for i in range(1_000):\n",
    "    random.seed(i)\n",
    "    value = game()\n",
    "    \n",
    "    random.seed(i)\n",
    "    value_ = game_3(roll_die())\n",
    "    # print(value, value_)\n",
    "    assert value is value_, i"
   ]
  },
  {
   "cell_type": "markdown",
   "metadata": {},
   "source": [
    "### Implementing using Result"
   ]
  },
  {
   "cell_type": "code",
   "execution_count": 58,
   "metadata": {},
   "outputs": [
    {
     "name": "stdout",
     "output_type": "stream",
     "text": [
      "Requirement already satisfied: result in c:\\users\\elcg\\.pyenv\\pyenv-win\\versions\\3.11.0a7\\lib\\site-packages (0.13.1)\n",
      "Note: you may need to restart the kernel to use updated packages.\n"
     ]
    },
    {
     "name": "stderr",
     "output_type": "stream",
     "text": [
      "WARNING: You are using pip version 22.0.4; however, version 24.0 is available.\n",
      "You should consider upgrading via the 'c:\\Users\\elcg\\.pyenv\\pyenv-win\\versions\\3.11.0a7\\python.exe -m pip install --upgrade pip' command.\n"
     ]
    }
   ],
   "source": [
    "%pip install result"
   ]
  },
  {
   "cell_type": "code",
   "execution_count": 59,
   "metadata": {},
   "outputs": [],
   "source": [
    "from result import Ok, Err, Result"
   ]
  },
  {
   "cell_type": "code",
   "execution_count": 60,
   "metadata": {},
   "outputs": [],
   "source": [
    "T1 = TypeVar(\"T1\")\n",
    "T2 = TypeVar(\"T2\")\n",
    "T3 = TypeVar(\"T3\")\n",
    "\n",
    "def invert(value: Result[T1, T2]) -> Result[T2, T1]:\n",
    "    return Err(value.unwrap()) if isinstance(value, Ok) else Ok(value.unwrap_err())\n",
    "\n",
    "def bind(f: Callable[..., Result[T3, T2]]) -> Callable[[Result[T1, T2]], Result[Union[T1, T3], T2]]:\n",
    "    def adapt(double_track: Result[T1, T2]) -> Result[Union[T1, T3], T2]:\n",
    "        return f(double_track.unwrap()) if double_track.is_ok() else  double_track\n",
    "    return adapt\n",
    "\n",
    "def map_(f: Callable[..., Ok[T3]]) -> Callable[[Result[T1, T2]], Result[T3, T2]]:\n",
    "    def adapt(double_track: Result[T1, T2]) -> Result[T3, T2]:\n",
    "        return f(double_track.unwrap()) if isinstance(double_track, Ok) else  double_track\n",
    "    return adapt\n",
    "\n",
    "def lash(f: Callable[..., Result[T1, T3]]) -> Callable[[Result[T1, T2]], Result[T1, Union[T2, T3]]]:\n",
    "    return compose(compose(invert, bind(compose(f, invert))), invert)\n",
    "\n",
    "\n",
    "def alt(f: Callable[..., Err[T3]]) -> Callable[[Result[T1, T2]], Result[T1, T3]]:\n",
    "    return compose(compose(invert, map_(compose(f, invert))), invert)"
   ]
  },
  {
   "cell_type": "code",
   "execution_count": 61,
   "metadata": {},
   "outputs": [],
   "source": [
    "def step_1(value: int) -> Result[int, int]:\n",
    "    return Ok(value) if is_even(value) else Err(value)\n",
    "\n",
    "def step_2(_: int) -> Ok[int]:\n",
    "    value = sum_values(roll_die(), roll_die())\n",
    "    return Ok(value)\n",
    "\n",
    "def step_3(_: int) -> Err[int]:\n",
    "    value = roll_die()\n",
    "    return Err(value * 2)\n",
    "\n",
    "def step_4(value: int) -> Result[int, int]:\n",
    "    return Ok(value) if greater_than_eight(value) else Err(value)\n",
    "\n",
    "def step_5(value: int) -> Result[int, int]:\n",
    "    return Err(value) if less_than_eight(value) else Ok(value)\n",
    "\n",
    "def map_result_to_state(value: Result[int, int]) -> State:\n",
    "    return State.GREEN if value.is_ok() else State.RED"
   ]
  },
  {
   "cell_type": "code",
   "execution_count": 62,
   "metadata": {},
   "outputs": [
    {
     "data": {
      "text/plain": [
       "<State.GREEN: 2>"
      ]
     },
     "execution_count": 62,
     "metadata": {},
     "output_type": "execute_result"
    }
   ],
   "source": [
    "game_4 = (\n",
    "    PipeLazyWithStart(step_1)\n",
    "    .then(map_(step_2))\n",
    "    .then(alt(step_3))\n",
    "    .then(lash(step_4))\n",
    "    .then(bind(step_5))\n",
    "    .then(map_result_to_state)\n",
    ")\n",
    "\n",
    "game_4(roll_die())"
   ]
  },
  {
   "cell_type": "code",
   "execution_count": 63,
   "metadata": {},
   "outputs": [],
   "source": [
    "for i in range(1_000):\n",
    "    random.seed(i)\n",
    "    value = game()\n",
    "    \n",
    "    random.seed(i)\n",
    "    value_ = game_4(roll_die())\n",
    "    # print(value, value_)\n",
    "    assert value is value_, i"
   ]
  },
  {
   "cell_type": "markdown",
   "metadata": {},
   "source": [
    "### Probability of Winning"
   ]
  },
  {
   "cell_type": "code",
   "execution_count": 64,
   "metadata": {},
   "outputs": [
    {
     "name": "stdout",
     "output_type": "stream",
     "text": [
      "Requirement already satisfied: sympy in c:\\users\\elcg\\.pyenv\\pyenv-win\\versions\\3.11.0a7\\lib\\site-packages (1.12)\n",
      "Requirement already satisfied: mpmath>=0.19 in c:\\users\\elcg\\.pyenv\\pyenv-win\\versions\\3.11.0a7\\lib\\site-packages (from sympy) (1.3.0)\n",
      "Note: you may need to restart the kernel to use updated packages.\n"
     ]
    },
    {
     "name": "stderr",
     "output_type": "stream",
     "text": [
      "WARNING: You are using pip version 22.0.4; however, version 24.0 is available.\n",
      "You should consider upgrading via the 'c:\\Users\\elcg\\.pyenv\\pyenv-win\\versions\\3.11.0a7\\python.exe -m pip install --upgrade pip' command.\n"
     ]
    }
   ],
   "source": [
    "%pip install sympy"
   ]
  },
  {
   "cell_type": "code",
   "execution_count": 65,
   "metadata": {},
   "outputs": [],
   "source": [
    "from sympy.stats import P, E, variance, Die, Normal"
   ]
  },
  {
   "cell_type": "code",
   "execution_count": 66,
   "metadata": {},
   "outputs": [],
   "source": [
    "from sympy import simplify"
   ]
  },
  {
   "cell_type": "code",
   "execution_count": 67,
   "metadata": {},
   "outputs": [],
   "source": [
    "X = Die(\"X\", 6)\n",
    "even = P(X % 2 <= 0)\n",
    "\n",
    "D1, D2 = Die(\"D_1\", 6), Die(\"D_2\", 6)\n",
    "sum_greater_than_eight = P(D1 + D2 >= 8)\n",
    "\n",
    "D3 = Die(\"D_1\", 6)\n",
    "value_greater_than_eight = P(D3 * 2 > 8)\n",
    "value_greater_than_ten = P(D3 * 2 > 10)\n"
   ]
  },
  {
   "cell_type": "code",
   "execution_count": 68,
   "metadata": {},
   "outputs": [
    {
     "data": {
      "text/latex": [
       "$\\displaystyle \\frac{3}{8}$"
      ],
      "text/plain": [
       "3/8"
      ]
     },
     "execution_count": 68,
     "metadata": {},
     "output_type": "execute_result"
    }
   ],
   "source": [
    "green_probability = (\n",
    "           even  * sum_greater_than_eight\n",
    "    + (1 - even) * value_greater_than_eight\n",
    ")\n",
    "green_probability"
   ]
  },
  {
   "cell_type": "code",
   "execution_count": 69,
   "metadata": {},
   "outputs": [
    {
     "data": {
      "text/plain": [
       "0.375"
      ]
     },
     "execution_count": 69,
     "metadata": {},
     "output_type": "execute_result"
    }
   ],
   "source": [
    "3 / 8"
   ]
  }
 ],
 "metadata": {
  "kernelspec": {
   "display_name": "Image-Recognition-App-Fastapi-L9EajCDy",
   "language": "python",
   "name": "python3"
  },
  "language_info": {
   "codemirror_mode": {
    "name": "ipython",
    "version": 3
   },
   "file_extension": ".py",
   "mimetype": "text/x-python",
   "name": "python",
   "nbconvert_exporter": "python",
   "pygments_lexer": "ipython3",
   "version": "3.11.0"
  },
  "orig_nbformat": 4
 },
 "nbformat": 4,
 "nbformat_minor": 2
}
