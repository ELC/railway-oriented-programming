{
 "cells": [
  {
   "cell_type": "code",
   "execution_count": 112,
   "metadata": {},
   "outputs": [],
   "source": [
    "import random\n",
    "from collections import Counter"
   ]
  },
  {
   "cell_type": "code",
   "execution_count": 113,
   "metadata": {},
   "outputs": [],
   "source": [
    "def roll_die() -> int:\n",
    "    return random.randint(1, 6)\n",
    "\n",
    "def is_even(n: int) -> bool:\n",
    "    return n % 2 == 0\n",
    "\n",
    "def is_divisible_by_three(n: int) -> bool:\n",
    "    return n % 3 == 0\n",
    "\n",
    "def greater_than_seven(n: int) -> bool:\n",
    "    return n > 7\n",
    "\n",
    "def less_than_ten(n: int) -> bool:\n",
    "    return n < 10\n",
    "\n",
    "def sum_values(*n: int) -> int:\n",
    "    return sum(n)"
   ]
  },
  {
   "cell_type": "code",
   "execution_count": 114,
   "metadata": {},
   "outputs": [],
   "source": [
    "from enum import Enum, auto\n",
    "\n",
    "class State(Enum):\n",
    "    RED = auto()\n",
    "    GREEN = auto()"
   ]
  },
  {
   "cell_type": "markdown",
   "metadata": {},
   "source": [
    "### Naive, Imperative Implementation"
   ]
  },
  {
   "cell_type": "code",
   "execution_count": 115,
   "metadata": {},
   "outputs": [],
   "source": [
    "def game() -> State:\n",
    "    value = roll_die()\n",
    "\n",
    "    state = State.GREEN if is_even(value) else State.RED\n",
    "\n",
    "    if state is State.GREEN:\n",
    "        value = sum_values(roll_die(), roll_die())\n",
    "    else:\n",
    "        value = roll_die()\n",
    "        value *= 2\n",
    "        if greater_than_seven(value):\n",
    "            state = State.GREEN\n",
    "    \n",
    "    if state is State.GREEN and less_than_ten(value):\n",
    "        state = State.RED\n",
    "\n",
    "    if state is State.RED:\n",
    "        value = sum_values(roll_die(), roll_die(), roll_die())\n",
    "        if is_divisible_by_three(value):\n",
    "            state = State.GREEN\n",
    "    \n",
    "    return state"
   ]
  },
  {
   "cell_type": "code",
   "execution_count": 116,
   "metadata": {},
   "outputs": [
    {
     "data": {
      "text/plain": [
       "Counter({<State.GREEN: 2>: 509, <State.RED: 1>: 491})"
      ]
     },
     "execution_count": 116,
     "metadata": {},
     "output_type": "execute_result"
    }
   ],
   "source": [
    "results = [game() for _ in range(1_000)]\n",
    "Counter(results)"
   ]
  },
  {
   "cell_type": "markdown",
   "metadata": {},
   "source": [
    "### Pure Python Implementation"
   ]
  },
  {
   "cell_type": "code",
   "execution_count": 117,
   "metadata": {},
   "outputs": [],
   "source": [
    "from dataclasses import dataclass\n",
    "import functools\n",
    "from typing import Any, Callable, Union, TypeVar\n",
    "\n",
    "@dataclass\n",
    "class Success:\n",
    "    value: Any\n",
    "\n",
    "@dataclass\n",
    "class Failure:\n",
    "    value: Any\n",
    "\n",
    "Result = Union[Success, Failure]\n",
    "\n",
    "T1 = TypeVar(\"T1\")\n",
    "T2 = TypeVar(\"T2\")\n",
    "T3 = TypeVar(\"T3\")\n",
    "T4 = TypeVar(\"T4\")\n",
    "\n",
    "def compose(*functions: Callable[..., Any]) -> Callable[..., Any]:\n",
    "    def compose_inner(f: Callable[[T1], T2], g: Callable[[T2], T3]) -> Callable[[T1], T3]:\n",
    "        return lambda x: g(f(x))\n",
    "    return functools.reduce(\n",
    "        compose_inner,\n",
    "        functions,\n",
    "        identity\n",
    "    )\n",
    "\n",
    "def invert(value: Result) -> Result:\n",
    "    return Failure(value.value) if isinstance(value, Success) else Success(value.value)\n",
    "\n",
    "def identity(x: Any) -> Any:\n",
    "    return x\n",
    "\n",
    "def bind(f: Callable[..., Result]) -> Callable[[Result], Result]:\n",
    "    def adapt(double_track: Result) -> Result:\n",
    "        return f(double_track.value) if isinstance(double_track, Success) else  double_track\n",
    "    return adapt\n",
    "\n",
    "def map_(f: Callable[..., Success]) -> Callable[[Result], Result]:\n",
    "    def adapt(double_track: Result) -> Result:\n",
    "        return f(double_track.value) if isinstance(double_track, Success) else  double_track\n",
    "    return adapt\n",
    "\n",
    "def lash(f: Callable[..., Result]) -> Callable[[Result], Result]:\n",
    "    def adapt(double_track: Result) -> Result:\n",
    "        return f(double_track.value) if isinstance(double_track, Failure) else  double_track\n",
    "    return adapt\n",
    "\n",
    "def alt(f: Callable[..., Failure]) -> Callable[[Result], Result]:\n",
    "    def adapt(double_track: Result) -> Result:\n",
    "        return f(double_track.value) if isinstance(double_track, Failure) else  double_track\n",
    "    return adapt"
   ]
  },
  {
   "cell_type": "code",
   "execution_count": 118,
   "metadata": {},
   "outputs": [
    {
     "data": {
      "text/plain": [
       "<State.RED: 1>"
      ]
     },
     "execution_count": 118,
     "metadata": {},
     "output_type": "execute_result"
    }
   ],
   "source": [
    "def step_1(value: int) -> Result:\n",
    "    return Success(value) if is_even(value) else Failure(value)\n",
    "\n",
    "def step_2(_: int) -> Success:\n",
    "    value = sum_values(roll_die(), roll_die())\n",
    "    return Success(value)\n",
    "\n",
    "def step_3(_: int) -> Failure:\n",
    "    value = roll_die()\n",
    "    return Failure(value * 2)\n",
    "\n",
    "def step_4(value: int) -> Result:\n",
    "    return Success(value) if greater_than_seven(value) else Failure(value)\n",
    "\n",
    "def step_5(value: int) -> Result:\n",
    "    return Failure(value) if less_than_ten(value) else Success(value)\n",
    "\n",
    "def step_6(_: int) -> Result:\n",
    "    value = sum_values(roll_die(), roll_die(), roll_die())\n",
    "    return Success(value) if is_divisible_by_three(value) else Failure(value)\n",
    "\n",
    "def map_result_to_state(value: Result) -> State:\n",
    "    return State.GREEN if isinstance(value, Success) else State.RED\n",
    "\n",
    "game_2 = compose(\n",
    "    step_1,\n",
    "    map_(step_2),\n",
    "    alt(step_3),\n",
    "    lash(step_4),\n",
    "    bind(step_5),\n",
    "    lash(step_6),\n",
    "    map_result_to_state\n",
    ")\n",
    "game_2(roll_die())"
   ]
  },
  {
   "cell_type": "code",
   "execution_count": 119,
   "metadata": {},
   "outputs": [],
   "source": [
    "for i in range(1_000):\n",
    "    random.seed(i)\n",
    "    value = game()\n",
    "    \n",
    "    random.seed(i)\n",
    "    value_ = game_2(roll_die())\n",
    "    # print(value, value_)\n",
    "    assert value is value_, i"
   ]
  },
  {
   "cell_type": "markdown",
   "metadata": {},
   "source": [
    "### Implementing using Returns"
   ]
  },
  {
   "cell_type": "code",
   "execution_count": 120,
   "metadata": {},
   "outputs": [
    {
     "name": "stdout",
     "output_type": "stream",
     "text": [
      "Requirement already satisfied: returns in c:\\users\\elcg\\.virtualenvs\\image-recognition-app-fastapi-l9eajcdy\\lib\\site-packages (0.22.0)\n",
      "Requirement already satisfied: mypy in c:\\users\\elcg\\.virtualenvs\\image-recognition-app-fastapi-l9eajcdy\\lib\\site-packages (1.5.1)\n",
      "Requirement already satisfied: typing-extensions<5.0,>=4.0 in c:\\users\\elcg\\.virtualenvs\\image-recognition-app-fastapi-l9eajcdy\\lib\\site-packages (from returns) (4.7.1)\n",
      "Requirement already satisfied: mypy-extensions>=1.0.0 in c:\\users\\elcg\\.virtualenvs\\image-recognition-app-fastapi-l9eajcdy\\lib\\site-packages (from mypy) (1.0.0)\n",
      "Requirement already satisfied: tomli>=1.1.0 in c:\\users\\elcg\\.virtualenvs\\image-recognition-app-fastapi-l9eajcdy\\lib\\site-packages (from mypy) (2.0.1)\n",
      "Note: you may need to restart the kernel to use updated packages.\n"
     ]
    },
    {
     "name": "stderr",
     "output_type": "stream",
     "text": [
      "\n",
      "[notice] A new release of pip is available: 23.0 -> 23.2.1\n",
      "[notice] To update, run: python.exe -m pip install --upgrade pip\n"
     ]
    }
   ],
   "source": [
    "%pip install returns mypy"
   ]
  },
  {
   "cell_type": "code",
   "execution_count": 121,
   "metadata": {},
   "outputs": [],
   "source": [
    "from returns.result import Result, Success, Failure"
   ]
  },
  {
   "cell_type": "code",
   "execution_count": 122,
   "metadata": {},
   "outputs": [],
   "source": [
    "def step_1(value: int) -> Result[int, int]:\n",
    "    return Success(value) if is_even(value) else Failure(value)\n",
    "\n",
    "def step_2(_: int) -> int:\n",
    "    value = sum_values(roll_die(), roll_die())\n",
    "    return value\n",
    "\n",
    "def step_3(_: int) -> int:\n",
    "    value = roll_die()\n",
    "    return value * 2\n",
    "\n",
    "def step_4(value: int) -> Result[int, int]:\n",
    "    return Success(value) if greater_than_seven(value) else Failure(value)\n",
    "\n",
    "def step_5(value: int) -> Result[int, int]:\n",
    "    return Failure(value) if less_than_ten(value) else Success(value)\n",
    "\n",
    "def step_6(_: int) -> Result[int, int]:\n",
    "    value = sum_values(roll_die(), roll_die(), roll_die())\n",
    "    return Success(value) if is_divisible_by_three(value) else Failure(value)\n",
    "\n",
    "def map_result_to_state(value: Result[int, int]) -> State:\n",
    "    return State.GREEN if isinstance(value, Success) else State.RED"
   ]
  },
  {
   "cell_type": "code",
   "execution_count": 123,
   "metadata": {},
   "outputs": [
    {
     "data": {
      "text/plain": [
       "<State.GREEN: 2>"
      ]
     },
     "execution_count": 123,
     "metadata": {},
     "output_type": "execute_result"
    }
   ],
   "source": [
    "from returns.pipeline import pipe\n",
    "from returns.pointfree import bind, lash, map_, alt\n",
    "\n",
    "game_3 = pipe(\n",
    "    step_1,\n",
    "    map_(step_2),\n",
    "    alt(step_3),\n",
    "    lash(step_4),\n",
    "    bind(step_5),\n",
    "    lash(step_6),\n",
    "    map_result_to_state\n",
    ")\n",
    "game_3(roll_die())"
   ]
  },
  {
   "cell_type": "code",
   "execution_count": 124,
   "metadata": {},
   "outputs": [],
   "source": [
    "for i in range(1_000):\n",
    "    random.seed(i)\n",
    "    value = game()\n",
    "    \n",
    "    random.seed(i)\n",
    "    value_ = game_3(roll_die())\n",
    "    # print(value, value_)\n",
    "    assert value is value_, i"
   ]
  },
  {
   "cell_type": "markdown",
   "metadata": {},
   "source": [
    "### Implementing using Result"
   ]
  },
  {
   "cell_type": "code",
   "execution_count": 314,
   "metadata": {},
   "outputs": [
    {
     "name": "stdout",
     "output_type": "stream",
     "text": [
      "Collecting resultNote: you may need to restart the kernel to use updated packages.\n",
      "\n",
      "  Downloading result-0.13.1-py3-none-any.whl (8.4 kB)\n",
      "Requirement already satisfied: typing-extensions in c:\\users\\elcg\\.virtualenvs\\image-recognition-app-fastapi-l9eajcdy\\lib\\site-packages (from result) (4.7.1)\n",
      "Installing collected packages: result\n",
      "Successfully installed result-0.13.1\n"
     ]
    },
    {
     "name": "stderr",
     "output_type": "stream",
     "text": [
      "\n",
      "[notice] A new release of pip is available: 23.0 -> 23.2.1\n",
      "[notice] To update, run: python.exe -m pip install --upgrade pip\n"
     ]
    }
   ],
   "source": [
    "%pip install result"
   ]
  },
  {
   "cell_type": "code",
   "execution_count": 318,
   "metadata": {},
   "outputs": [],
   "source": [
    "from result import Ok, Err, Result"
   ]
  },
  {
   "cell_type": "code",
   "execution_count": 383,
   "metadata": {},
   "outputs": [],
   "source": [
    "def step_1(value: int) -> Result[int, int]:\n",
    "    return Ok(value) if is_even(value) else Err(value)\n",
    "\n",
    "def step_2(_: Result[int, int]) -> Ok[int]:\n",
    "    value = sum_values(roll_die(), roll_die())\n",
    "    return Ok(value)\n",
    "\n",
    "def step_3(_: int) -> Result[int, int]:\n",
    "    value = roll_die()\n",
    "    return Ok(value * 2) if greater_than_three(value) else Err(value)\n",
    "    \n",
    "\n",
    "def step_4(value: Result[int, int]) -> Result[int, int]:\n",
    "    return Err(value) if less_than_ten(value) else Ok(value)\n",
    "\n",
    "def step_5(_: int) -> Result[int, int]:\n",
    "    value = sum_values(roll_die(), roll_die(), roll_die())\n",
    "    return Ok(value) if is_divisible_by_three(value) else Err(value)\n",
    "\n",
    "def map_result_to_state(value: Result[int, int]) -> State:\n",
    "    return State.GREEN if value.is_ok() else State.RED"
   ]
  },
  {
   "cell_type": "code",
   "execution_count": 385,
   "metadata": {},
   "outputs": [
    {
     "ename": "TypeError",
     "evalue": "'<' not supported between instances of 'Ok' and 'int'",
     "output_type": "error",
     "traceback": [
      "\u001b[1;31m---------------------------------------------------------------------------\u001b[0m",
      "\u001b[1;31mTypeError\u001b[0m                                 Traceback (most recent call last)",
      "Cell \u001b[1;32mIn[385], line 12\u001b[0m\n\u001b[0;32m      1\u001b[0m \u001b[39mdef\u001b[39;00m \u001b[39mgame_4\u001b[39m():\n\u001b[0;32m      2\u001b[0m     \u001b[39mreturn\u001b[39;00m map_result_to_state(\n\u001b[0;32m      3\u001b[0m         Ok(roll_die())\n\u001b[0;32m      4\u001b[0m         \u001b[39m.\u001b[39mmap(step_1)\n\u001b[1;32m   (...)\u001b[0m\n\u001b[0;32m      9\u001b[0m         \u001b[39m.\u001b[39munwrap()\n\u001b[0;32m     10\u001b[0m     )\n\u001b[1;32m---> 12\u001b[0m game_4()\n",
      "Cell \u001b[1;32mIn[385], line 3\u001b[0m, in \u001b[0;36mgame_4\u001b[1;34m()\u001b[0m\n\u001b[0;32m      1\u001b[0m \u001b[39mdef\u001b[39;00m \u001b[39mgame_4\u001b[39m():\n\u001b[0;32m      2\u001b[0m     \u001b[39mreturn\u001b[39;00m map_result_to_state(\n\u001b[1;32m----> 3\u001b[0m         Ok(roll_die())\n\u001b[0;32m      4\u001b[0m         \u001b[39m.\u001b[39;49mmap(step_1)\n\u001b[0;32m      5\u001b[0m         \u001b[39m.\u001b[39;49mmap(step_2)\n\u001b[0;32m      6\u001b[0m         \u001b[39m.\u001b[39;49mmap_err(step_3)\n\u001b[0;32m      7\u001b[0m         \u001b[39m.\u001b[39;49mmap(step_4)\n\u001b[0;32m      8\u001b[0m         \u001b[39m.\u001b[39mmap_err(step_5)\n\u001b[0;32m      9\u001b[0m         \u001b[39m.\u001b[39munwrap()\n\u001b[0;32m     10\u001b[0m     )\n",
      "File \u001b[1;32mc:\\Users\\elcg\\.virtualenvs\\Image-Recognition-App-Fastapi-L9EajCDy\\lib\\site-packages\\result\\result.py:146\u001b[0m, in \u001b[0;36mOk.map\u001b[1;34m(self, op)\u001b[0m\n\u001b[0;32m    141\u001b[0m \u001b[39mdef\u001b[39;00m \u001b[39mmap\u001b[39m(\u001b[39mself\u001b[39m, op: Callable[[T], U]) \u001b[39m-\u001b[39m\u001b[39m>\u001b[39m Ok[U]:\n\u001b[0;32m    142\u001b[0m \u001b[39m    \u001b[39m\u001b[39m\"\"\"\u001b[39;00m\n\u001b[0;32m    143\u001b[0m \u001b[39m    The contained result is `Ok`, so return `Ok` with original value mapped to\u001b[39;00m\n\u001b[0;32m    144\u001b[0m \u001b[39m    a new value using the passed in function.\u001b[39;00m\n\u001b[0;32m    145\u001b[0m \u001b[39m    \"\"\"\u001b[39;00m\n\u001b[1;32m--> 146\u001b[0m     \u001b[39mreturn\u001b[39;00m Ok(op(\u001b[39mself\u001b[39;49m\u001b[39m.\u001b[39;49m_value))\n",
      "Cell \u001b[1;32mIn[383], line 14\u001b[0m, in \u001b[0;36mstep_4\u001b[1;34m(value)\u001b[0m\n\u001b[0;32m     13\u001b[0m \u001b[39mdef\u001b[39;00m \u001b[39mstep_4\u001b[39m(value: Result[\u001b[39mint\u001b[39m, \u001b[39mint\u001b[39m]) \u001b[39m-\u001b[39m\u001b[39m>\u001b[39m Result[\u001b[39mint\u001b[39m, \u001b[39mint\u001b[39m]:\n\u001b[1;32m---> 14\u001b[0m     \u001b[39mreturn\u001b[39;00m Err(value) \u001b[39mif\u001b[39;00m less_than_ten(value) \u001b[39melse\u001b[39;00m Ok(value)\n",
      "Cell \u001b[1;32mIn[93], line 11\u001b[0m, in \u001b[0;36mless_than_ten\u001b[1;34m(n)\u001b[0m\n\u001b[0;32m     10\u001b[0m \u001b[39mdef\u001b[39;00m \u001b[39mless_than_ten\u001b[39m(n: \u001b[39mint\u001b[39m) \u001b[39m-\u001b[39m\u001b[39m>\u001b[39m \u001b[39mbool\u001b[39m:\n\u001b[1;32m---> 11\u001b[0m     \u001b[39mreturn\u001b[39;00m n \u001b[39m<\u001b[39;49m \u001b[39m10\u001b[39;49m\n",
      "\u001b[1;31mTypeError\u001b[0m: '<' not supported between instances of 'Ok' and 'int'"
     ]
    }
   ],
   "source": [
    "def game_4():\n",
    "    return map_result_to_state(\n",
    "        Ok(roll_die())\n",
    "        .map(step_1)\n",
    "        .map(step_2)\n",
    "        .map_err(step_3)\n",
    "        .map(step_4)\n",
    "        .map_err(step_5)\n",
    "        .unwrap()\n",
    "    )\n",
    "\n",
    "game_4()"
   ]
  },
  {
   "cell_type": "code",
   "execution_count": 369,
   "metadata": {},
   "outputs": [
    {
     "name": "stdout",
     "output_type": "stream",
     "text": [
      "State.GREEN State.RED\n"
     ]
    },
    {
     "ename": "AssertionError",
     "evalue": "0",
     "output_type": "error",
     "traceback": [
      "\u001b[1;31m---------------------------------------------------------------------------\u001b[0m",
      "\u001b[1;31mAssertionError\u001b[0m                            Traceback (most recent call last)",
      "Cell \u001b[1;32mIn[369], line 8\u001b[0m\n\u001b[0;32m      6\u001b[0m value_ \u001b[39m=\u001b[39m game_4()\n\u001b[0;32m      7\u001b[0m \u001b[39mprint\u001b[39m(value, value_)\n\u001b[1;32m----> 8\u001b[0m \u001b[39massert\u001b[39;00m value \u001b[39mis\u001b[39;00m value_, i\n",
      "\u001b[1;31mAssertionError\u001b[0m: 0"
     ]
    }
   ],
   "source": [
    "for i in range(1_000):\n",
    "    random.seed(i)\n",
    "    value = game()\n",
    "    \n",
    "    random.seed(i)\n",
    "    value_ = game_4()\n",
    "    print(value, value_)\n",
    "    assert value is value_, i"
   ]
  },
  {
   "cell_type": "code",
   "execution_count": null,
   "metadata": {},
   "outputs": [],
   "source": []
  }
 ],
 "metadata": {
  "kernelspec": {
   "display_name": "Image-Recognition-App-Fastapi-L9EajCDy",
   "language": "python",
   "name": "python3"
  },
  "language_info": {
   "codemirror_mode": {
    "name": "ipython",
    "version": 3
   },
   "file_extension": ".py",
   "mimetype": "text/x-python",
   "name": "python",
   "nbconvert_exporter": "python",
   "pygments_lexer": "ipython3",
   "version": "3.9.13"
  },
  "orig_nbformat": 4
 },
 "nbformat": 4,
 "nbformat_minor": 2
}
