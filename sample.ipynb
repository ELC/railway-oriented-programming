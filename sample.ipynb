{
 "cells": [
  {
   "cell_type": "code",
   "execution_count": 42,
   "metadata": {},
   "outputs": [],
   "source": [
    "import random\n",
    "from collections import Counter"
   ]
  },
  {
   "cell_type": "code",
   "execution_count": 43,
   "metadata": {},
   "outputs": [],
   "source": [
    "def roll_die() -> int:\n",
    "    return random.randint(1, 6)\n",
    "\n",
    "def is_even(n: int) -> bool:\n",
    "    return n % 2 == 0\n",
    "\n",
    "def is_divisible_by_three(n: int) -> bool:\n",
    "    return n % 3 == 0\n",
    "\n",
    "def greater_than_seven(n: int) -> bool:\n",
    "    return n > 7\n",
    "\n",
    "def less_than_ten(n: int) -> bool:\n",
    "    return n < 10\n",
    "\n",
    "def sum_values(*n: int) -> int:\n",
    "    return sum(n)"
   ]
  },
  {
   "cell_type": "code",
   "execution_count": 44,
   "metadata": {},
   "outputs": [],
   "source": [
    "from enum import Enum, auto\n",
    "\n",
    "class State(Enum):\n",
    "    RED = auto()\n",
    "    GREEN = auto()"
   ]
  },
  {
   "cell_type": "markdown",
   "metadata": {},
   "source": [
    "### Naive, Imperative Implementation"
   ]
  },
  {
   "cell_type": "code",
   "execution_count": 45,
   "metadata": {},
   "outputs": [],
   "source": [
    "def game() -> State:\n",
    "    value = roll_die()\n",
    "\n",
    "    state = State.GREEN if is_even(value) else State.RED\n",
    "\n",
    "    if state is State.GREEN:\n",
    "        value = sum_values(roll_die(), roll_die())\n",
    "    else:\n",
    "        value = roll_die()\n",
    "        value *= 2\n",
    "        if greater_than_seven(value):\n",
    "            state = State.GREEN\n",
    "    \n",
    "    if state is State.GREEN and less_than_ten(value):\n",
    "        state = State.RED\n",
    "\n",
    "    if state is State.RED:\n",
    "        value = sum_values(roll_die(), roll_die(), roll_die())\n",
    "        if is_divisible_by_three(value):\n",
    "            state = State.GREEN\n",
    "    \n",
    "    return state"
   ]
  },
  {
   "cell_type": "code",
   "execution_count": 46,
   "metadata": {},
   "outputs": [
    {
     "data": {
      "text/plain": [
       "Counter({<State.GREEN: 2>: 509, <State.RED: 1>: 491})"
      ]
     },
     "execution_count": 46,
     "metadata": {},
     "output_type": "execute_result"
    }
   ],
   "source": [
    "results = [game() for _ in range(1_000)]\n",
    "Counter(results)"
   ]
  },
  {
   "cell_type": "markdown",
   "metadata": {},
   "source": [
    "### Naive, Functional Implementation"
   ]
  },
  {
   "cell_type": "code",
   "execution_count": 47,
   "metadata": {},
   "outputs": [],
   "source": [
    "def step_1(value: int) -> State:\n",
    "    return State.GREEN if is_even(value) else State.RED\n",
    "\n",
    "def step_2(_: int) -> int:\n",
    "    return sum_values(roll_die(), roll_die())\n",
    "\n",
    "def step_3(_: int) -> int:\n",
    "    return roll_die() * 2\n",
    "\n",
    "def step_4(value: int) -> State:\n",
    "    return State.GREEN if greater_than_seven(value) else State.RED\n",
    "\n",
    "def step_5(value: int) -> State:\n",
    "    return State.RED if less_than_ten(value) else State.GREEN\n",
    "\n",
    "def step_6(_: int) -> State:\n",
    "    value = sum_values(roll_die(), roll_die(), roll_die())\n",
    "    return State.GREEN if is_divisible_by_three(value) else State.RED\n",
    "\n",
    "def game_() -> State:\n",
    "    value = roll_die()\n",
    "\n",
    "    state = step_1(value)\n",
    "\n",
    "    if state is State.GREEN:\n",
    "        value = step_2(value)\n",
    "    else:\n",
    "        value = step_3(value)\n",
    "        state = step_4(value)\n",
    "    \n",
    "    if state is State.GREEN:\n",
    "        state = step_5(value)\n",
    "\n",
    "    if state is State.RED:\n",
    "        state = step_6(value)\n",
    "    \n",
    "    return state"
   ]
  },
  {
   "cell_type": "code",
   "execution_count": 48,
   "metadata": {},
   "outputs": [],
   "source": [
    "for i in range(1_000):\n",
    "    random.seed(i)\n",
    "    value = game()\n",
    "    \n",
    "    random.seed(i)\n",
    "    value_ = game_()\n",
    "    # print(value, value_)\n",
    "    assert value is value_, i"
   ]
  },
  {
   "cell_type": "markdown",
   "metadata": {},
   "source": [
    "### Pure Python Implementation"
   ]
  },
  {
   "cell_type": "code",
   "execution_count": 49,
   "metadata": {},
   "outputs": [],
   "source": [
    "from dataclasses import dataclass\n",
    "import functools\n",
    "from typing import Any, Callable, Union, TypeVar, Generic\n",
    "\n",
    "T = TypeVar(\"T\", covariant=True)\n",
    "\n",
    "@dataclass\n",
    "class Success(Generic[T]):\n",
    "    value: T\n",
    "\n",
    "@dataclass\n",
    "class Failure(Generic[T]):\n",
    "    value: T\n",
    "\n",
    "\n",
    "T1 = TypeVar(\"T1\")\n",
    "T2 = TypeVar(\"T2\")\n",
    "T3 = TypeVar(\"T3\")\n",
    "\n",
    "Result = Union[Success[T1], Failure[T2]]\n",
    "\n",
    "def compose(*functions: Callable[..., Any]) -> Callable[..., Any]:\n",
    "    def compose_inner(f: Callable[[T1], T2], g: Callable[[T2], T3]) -> Callable[[T1], T3]:\n",
    "        return lambda x: g(f(x))\n",
    "    return functools.reduce(\n",
    "        compose_inner,\n",
    "        functions,\n",
    "        identity\n",
    "    )\n",
    "\n",
    "def invert(value: Result[T1, T2]) -> Result[T2, T1]:\n",
    "    return Failure(value.value) if isinstance(value, Success) else Success(value.value)\n",
    "\n",
    "def identity(x: T) -> T:\n",
    "    return x\n",
    "\n",
    "\n",
    "def bind(f: Callable[..., Result[T3, T2]]) -> Callable[[Result[T1, T2]], Result[Union[T1, T3], T2]]:\n",
    "    def adapt(double_track: Result[T1, T2]) -> Result[Union[T1, T3], T2]:\n",
    "        return f(double_track.value) if isinstance(double_track, Success) else  double_track\n",
    "    return adapt\n",
    "\n",
    "def map_(f: Callable[..., Success[T3]]) -> Callable[[Result[T1, T2]], Result[T3, T2]]:\n",
    "    def adapt(double_track: Result[T1, T2]) -> Result[T3, T2]:\n",
    "        return f(double_track.value) if isinstance(double_track, Success) else  double_track\n",
    "    return adapt\n",
    "\n",
    "def lash(f: Callable[..., Result[T1, T3]]) -> Callable[[Result[T1, T2]], Result[T1, Union[T2, T3]]]:\n",
    "    def adapt(double_track: Result[T1, T2]) -> Result[T1, Union[T2, T3]]:\n",
    "        return f(double_track.value) if isinstance(double_track, Failure) else  double_track\n",
    "    return adapt\n",
    "\n",
    "def alt(f: Callable[..., Failure[T3]]) -> Callable[[Result[T1, T2]], Result[T1, T3]]:\n",
    "    def adapt(double_track: Result[T1, T2]) -> Result[T1, T3]:\n",
    "        return f(double_track.value) if isinstance(double_track, Failure) else  double_track\n",
    "    return adapt"
   ]
  },
  {
   "cell_type": "code",
   "execution_count": 50,
   "metadata": {},
   "outputs": [
    {
     "data": {
      "text/plain": [
       "<State.GREEN: 2>"
      ]
     },
     "execution_count": 50,
     "metadata": {},
     "output_type": "execute_result"
    }
   ],
   "source": [
    "def step_1(value: int) -> Result[int, int]:\n",
    "    return Success(value) if is_even(value) else Failure(value)\n",
    "\n",
    "def step_2(_: int) -> Success[int]:\n",
    "    value = sum_values(roll_die(), roll_die())\n",
    "    return Success(value)\n",
    "\n",
    "def step_3(_: int) -> Failure[int]:\n",
    "    value = roll_die()\n",
    "    return Failure(value * 2)\n",
    "\n",
    "def step_4(value: int) -> Result[int, int]:\n",
    "    return Success(value) if greater_than_seven(value) else Failure(value)\n",
    "\n",
    "def step_5(value: int) -> Result[int, int]:\n",
    "    return Failure(value) if less_than_ten(value) else Success(value)\n",
    "\n",
    "def step_6(_: int) -> Result[int, int]:\n",
    "    value = sum_values(roll_die(), roll_die(), roll_die())\n",
    "    return Success(value) if is_divisible_by_three(value) else Failure(value)\n",
    "\n",
    "def map_result_to_state(value: Result[int, int]) -> State:\n",
    "    return State.GREEN if isinstance(value, Success) else State.RED\n",
    "\n",
    "game_2 = compose(\n",
    "    step_1,\n",
    "    map_(step_2),\n",
    "    alt(step_3),\n",
    "    lash(step_4),\n",
    "    bind(step_5),\n",
    "    lash(step_6),\n",
    "    map_result_to_state\n",
    ")\n",
    "game_2(roll_die())"
   ]
  },
  {
   "cell_type": "code",
   "execution_count": 51,
   "metadata": {},
   "outputs": [],
   "source": [
    "for i in range(1_000):\n",
    "    random.seed(i)\n",
    "    value = game()\n",
    "    \n",
    "    random.seed(i)\n",
    "    value_ = game_2(roll_die())\n",
    "    # print(value, value_)\n",
    "    assert value is value_, i"
   ]
  },
  {
   "cell_type": "markdown",
   "metadata": {},
   "source": [
    "### Implementing using Returns"
   ]
  },
  {
   "cell_type": "code",
   "execution_count": 52,
   "metadata": {},
   "outputs": [
    {
     "name": "stdout",
     "output_type": "stream",
     "text": [
      "Requirement already satisfied: returns in c:\\users\\elcg\\.virtualenvs\\image-recognition-app-fastapi-l9eajcdy\\lib\\site-packages (0.22.0)\n",
      "Requirement already satisfied: mypy in c:\\users\\elcg\\.virtualenvs\\image-recognition-app-fastapi-l9eajcdy\\lib\\site-packages (1.5.1)\n",
      "Requirement already satisfied: typing-extensions<5.0,>=4.0 in c:\\users\\elcg\\.virtualenvs\\image-recognition-app-fastapi-l9eajcdy\\lib\\site-packages (from returns) (4.7.1)\n",
      "Requirement already satisfied: mypy-extensions>=1.0.0 in c:\\users\\elcg\\.virtualenvs\\image-recognition-app-fastapi-l9eajcdy\\lib\\site-packages (from mypy) (1.0.0)\n",
      "Requirement already satisfied: tomli>=1.1.0 in c:\\users\\elcg\\.virtualenvs\\image-recognition-app-fastapi-l9eajcdy\\lib\\site-packages (from mypy) (2.0.1)\n",
      "Note: you may need to restart the kernel to use updated packages.\n"
     ]
    },
    {
     "name": "stderr",
     "output_type": "stream",
     "text": [
      "\n",
      "[notice] A new release of pip is available: 23.0 -> 23.2.1\n",
      "[notice] To update, run: python.exe -m pip install --upgrade pip\n"
     ]
    }
   ],
   "source": [
    "%pip install returns mypy"
   ]
  },
  {
   "cell_type": "code",
   "execution_count": 53,
   "metadata": {},
   "outputs": [],
   "source": [
    "from returns.result import Result, Success, Failure"
   ]
  },
  {
   "cell_type": "code",
   "execution_count": 54,
   "metadata": {},
   "outputs": [],
   "source": [
    "def step_1(value: int) -> Result[int, int]:\n",
    "    return Success(value) if is_even(value) else Failure(value)\n",
    "\n",
    "def step_2(_: int) -> int:\n",
    "    value = sum_values(roll_die(), roll_die())\n",
    "    return value\n",
    "\n",
    "def step_3(_: int) -> int:\n",
    "    value = roll_die()\n",
    "    return value * 2\n",
    "\n",
    "def step_4(value: int) -> Result[int, int]:\n",
    "    return Success(value) if greater_than_seven(value) else Failure(value)\n",
    "\n",
    "def step_5(value: int) -> Result[int, int]:\n",
    "    return Failure(value) if less_than_ten(value) else Success(value)\n",
    "\n",
    "def step_6(_: int) -> Result[int, int]:\n",
    "    value = sum_values(roll_die(), roll_die(), roll_die())\n",
    "    return Success(value) if is_divisible_by_three(value) else Failure(value)\n",
    "\n",
    "def map_result_to_state(value: Result[int, int]) -> State:\n",
    "    return State.GREEN if isinstance(value, Success) else State.RED"
   ]
  },
  {
   "cell_type": "code",
   "execution_count": 55,
   "metadata": {},
   "outputs": [
    {
     "data": {
      "text/plain": [
       "<State.GREEN: 2>"
      ]
     },
     "execution_count": 55,
     "metadata": {},
     "output_type": "execute_result"
    }
   ],
   "source": [
    "from returns.pipeline import pipe\n",
    "from returns.pointfree import bind, lash, map_, alt\n",
    "\n",
    "game_3 = pipe(\n",
    "    step_1,\n",
    "    map_(step_2),\n",
    "    alt(step_3),\n",
    "    lash(step_4),\n",
    "    bind(step_5),\n",
    "    lash(step_6),\n",
    "    map_result_to_state\n",
    ")\n",
    "game_3(roll_die())"
   ]
  },
  {
   "cell_type": "code",
   "execution_count": 56,
   "metadata": {},
   "outputs": [],
   "source": [
    "for i in range(1_000):\n",
    "    random.seed(i)\n",
    "    value = game()\n",
    "    \n",
    "    random.seed(i)\n",
    "    value_ = game_3(roll_die())\n",
    "    # print(value, value_)\n",
    "    assert value is value_, i"
   ]
  },
  {
   "cell_type": "markdown",
   "metadata": {},
   "source": [
    "### Implementing using Result"
   ]
  },
  {
   "cell_type": "code",
   "execution_count": 57,
   "metadata": {},
   "outputs": [
    {
     "name": "stdout",
     "output_type": "stream",
     "text": [
      "Requirement already satisfied: result in c:\\users\\elcg\\.virtualenvs\\image-recognition-app-fastapi-l9eajcdy\\lib\\site-packages (0.13.1)\n",
      "Requirement already satisfied: typing-extensions in c:\\users\\elcg\\.virtualenvs\\image-recognition-app-fastapi-l9eajcdy\\lib\\site-packages (from result) (4.7.1)\n",
      "Note: you may need to restart the kernel to use updated packages.\n"
     ]
    },
    {
     "name": "stderr",
     "output_type": "stream",
     "text": [
      "\n",
      "[notice] A new release of pip is available: 23.0 -> 23.2.1\n",
      "[notice] To update, run: python.exe -m pip install --upgrade pip\n"
     ]
    }
   ],
   "source": [
    "%pip install result"
   ]
  },
  {
   "cell_type": "code",
   "execution_count": 58,
   "metadata": {},
   "outputs": [],
   "source": [
    "from result import Ok, Err, Result"
   ]
  },
  {
   "cell_type": "code",
   "execution_count": 59,
   "metadata": {},
   "outputs": [],
   "source": [
    "T1 = TypeVar(\"T1\")\n",
    "T2 = TypeVar(\"T2\")\n",
    "T3 = TypeVar(\"T3\")\n",
    "\n",
    "def bind(f: Callable[..., Result[T3, T2]]) -> Callable[[Result[T1, T2]], Result[Union[T1, T3], T2]]:\n",
    "    def adapt(double_track: Result[T1, T2]) -> Result[Union[T1, T3], T2]:\n",
    "        return f(double_track.unwrap()) if double_track.is_ok() else  double_track\n",
    "    return adapt\n",
    "\n",
    "def map_(f: Callable[..., Ok[T3]]) -> Callable[[Result[T1, T2]], Result[T3, T2]]:\n",
    "    def adapt(double_track: Result[T1, T2]) -> Result[T3, T2]:\n",
    "        return f(double_track.unwrap()) if isinstance(double_track, Ok) else  double_track\n",
    "    return adapt\n",
    "\n",
    "def lash(f: Callable[..., Result[T1, T3]]) -> Callable[[Result[T1, T2]], Result[T1, Union[T2, T3]]]:\n",
    "    def adapt(double_track: Result[T1, T2]) -> Result[T1, Union[T2, T3]]:\n",
    "        return f(double_track.unwrap_err()) if double_track.is_err() else  double_track\n",
    "    return adapt\n",
    "\n",
    "def alt(f: Callable[..., Err[T3]]) -> Callable[[Result[T1, T2]], Result[T1, T3]]:\n",
    "    def adapt(double_track: Result[T1, T2]) -> Result[T1, T3]:\n",
    "        return f(double_track.unwrap_err()) if isinstance(double_track, Err) else  double_track\n",
    "    return adapt"
   ]
  },
  {
   "cell_type": "code",
   "execution_count": 60,
   "metadata": {},
   "outputs": [],
   "source": [
    "def step_1(value: int) -> Result[int, int]:\n",
    "    return Ok(value) if is_even(value) else Err(value)\n",
    "\n",
    "def step_2(_: int) -> Ok[int]:\n",
    "    value = sum_values(roll_die(), roll_die())\n",
    "    return Ok(value)\n",
    "\n",
    "def step_3(_: int) -> Err[int]:\n",
    "    value = roll_die()\n",
    "    return Err(value * 2)\n",
    "\n",
    "def step_4(value: int) -> Result[int, int]:\n",
    "    return Ok(value) if greater_than_seven(value) else Err(value)\n",
    "\n",
    "def step_5(value: int) -> Result[int, int]:\n",
    "    return Err(value) if less_than_ten(value) else Ok(value)\n",
    "\n",
    "def step_6(_: int) -> Result[int, int]:\n",
    "    value = sum_values(roll_die(), roll_die(), roll_die())\n",
    "    return Ok(value) if is_divisible_by_three(value) else Err(value)\n",
    "\n",
    "def map_result_to_state(value: Result[int, int]) -> State:\n",
    "    return State.GREEN if value.is_ok() else State.RED"
   ]
  },
  {
   "cell_type": "code",
   "execution_count": 61,
   "metadata": {},
   "outputs": [
    {
     "data": {
      "text/plain": [
       "<State.GREEN: 2>"
      ]
     },
     "execution_count": 61,
     "metadata": {},
     "output_type": "execute_result"
    }
   ],
   "source": [
    "game_4 = compose(\n",
    "    step_1,\n",
    "    map_(step_2),\n",
    "    alt(step_3),\n",
    "    lash(step_4),\n",
    "    bind(step_5),\n",
    "    lash(step_6),\n",
    "    map_result_to_state\n",
    ")\n",
    "\n",
    "game_4(2)"
   ]
  },
  {
   "cell_type": "code",
   "execution_count": 62,
   "metadata": {},
   "outputs": [],
   "source": [
    "for i in range(1_000):\n",
    "    random.seed(i)\n",
    "    value = game()\n",
    "    \n",
    "    random.seed(i)\n",
    "    value_ = game_4(roll_die())\n",
    "    # print(value, value_)\n",
    "    assert value is value_, i"
   ]
  },
  {
   "cell_type": "code",
   "execution_count": null,
   "metadata": {},
   "outputs": [],
   "source": []
  }
 ],
 "metadata": {
  "kernelspec": {
   "display_name": "Image-Recognition-App-Fastapi-L9EajCDy",
   "language": "python",
   "name": "python3"
  },
  "language_info": {
   "codemirror_mode": {
    "name": "ipython",
    "version": 3
   },
   "file_extension": ".py",
   "mimetype": "text/x-python",
   "name": "python",
   "nbconvert_exporter": "python",
   "pygments_lexer": "ipython3",
   "version": "3.9.13"
  },
  "orig_nbformat": 4
 },
 "nbformat": 4,
 "nbformat_minor": 2
}
